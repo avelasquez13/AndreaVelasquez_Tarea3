{
 "cells": [
  {
   "cell_type": "code",
   "execution_count": 1,
   "metadata": {},
   "outputs": [
    {
     "name": "stdout",
     "output_type": "stream",
     "text": [
      "Populating the interactive namespace from numpy and matplotlib\n"
     ]
    }
   ],
   "source": [
    "from __future__ import print_function\n",
    "\n",
    "import numpy as np\n",
    "import pandas as pd\n",
    "from sklearn.model_selection import train_test_split # Mirar la libreria sklearn.model_selection\n",
    "from sklearn.model_selection import cross_val_score\n",
    "from sklearn.model_selection import GridSearchCV\n",
    "\n",
    "from sklearn.metrics import classification_report\n",
    "\n",
    "from sklearn import svm\n",
    "from sklearn.svm import SVC\n",
    "from sklearn.svm import SVR\n",
    "from sklearn import preprocessing\n",
    "from sklearn import linear_model\n",
    "\n",
    "import warnings\n",
    "warnings.simplefilter('ignore')\n",
    "\n",
    "%pylab inline"
   ]
  },
  {
   "cell_type": "markdown",
   "metadata": {},
   "source": [
    "# Modelo de evolución de un disco protoplanetario en un sistema planetario\n",
    "### A continuación se importan los datos de la evolución de un disco de gas y polvo que rodea una estrella central y la evolución de este en un sistema planetario"
   ]
  },
  {
   "cell_type": "code",
   "execution_count": 2,
   "metadata": {},
   "outputs": [],
   "source": [
    "high = pd.read_csv('datos/highp_finalresults.csv')\n",
    "low = pd.read_csv('datos/lowp_finalresults.csv')"
   ]
  },
  {
   "cell_type": "code",
   "execution_count": 3,
   "metadata": {},
   "outputs": [
    {
     "data": {
      "text/html": [
       "<div>\n",
       "<style>\n",
       "    .dataframe thead tr:only-child th {\n",
       "        text-align: right;\n",
       "    }\n",
       "\n",
       "    .dataframe thead th {\n",
       "        text-align: left;\n",
       "    }\n",
       "\n",
       "    .dataframe tbody tr th {\n",
       "        vertical-align: top;\n",
       "    }\n",
       "</style>\n",
       "<table border=\"1\" class=\"dataframe\">\n",
       "  <thead>\n",
       "    <tr style=\"text-align: right;\">\n",
       "      <th></th>\n",
       "      <th>ident</th>\n",
       "      <th>it</th>\n",
       "      <th>t</th>\n",
       "      <th>a(i)</th>\n",
       "      <th>emegas(i)</th>\n",
       "      <th>emepla(i)/emet</th>\n",
       "      <th>rplanet(i)/radtie</th>\n",
       "      <th>emestar</th>\n",
       "      <th>rc</th>\n",
       "      <th>qest</th>\n",
       "      <th>sigmag_0</th>\n",
       "      <th>emed</th>\n",
       "      <th>gama</th>\n",
       "      <th>apert</th>\n",
       "      <th>fpert</th>\n",
       "      <th>constmigI</th>\n",
       "      <th>emetal</th>\n",
       "      <th>taugas</th>\n",
       "    </tr>\n",
       "  </thead>\n",
       "  <tbody>\n",
       "    <tr>\n",
       "      <th>32460</th>\n",
       "      <td>2974</td>\n",
       "      <td>199875</td>\n",
       "      <td>20000001.0</td>\n",
       "      <td>4.403352</td>\n",
       "      <td>0.0</td>\n",
       "      <td>0.568129</td>\n",
       "      <td>1.2753727397384054</td>\n",
       "      <td>4.092467e+32</td>\n",
       "      <td>50.698605</td>\n",
       "      <td>6.853647</td>\n",
       "      <td>9.907135</td>\n",
       "      <td>0.018</td>\n",
       "      <td>1.0</td>\n",
       "      <td>0.3</td>\n",
       "      <td>1.0</td>\n",
       "      <td>0.1</td>\n",
       "      <td>0.408212</td>\n",
       "      <td>7710610.5</td>\n",
       "    </tr>\n",
       "    <tr>\n",
       "      <th>32461</th>\n",
       "      <td>2974</td>\n",
       "      <td>199875</td>\n",
       "      <td>20000001.0</td>\n",
       "      <td>4.998909</td>\n",
       "      <td>0.0</td>\n",
       "      <td>0.346168</td>\n",
       "      <td>1.0811722783677506</td>\n",
       "      <td>4.092467e+32</td>\n",
       "      <td>50.698605</td>\n",
       "      <td>6.853647</td>\n",
       "      <td>9.907135</td>\n",
       "      <td>0.018</td>\n",
       "      <td>1.0</td>\n",
       "      <td>0.3</td>\n",
       "      <td>1.0</td>\n",
       "      <td>0.1</td>\n",
       "      <td>0.408212</td>\n",
       "      <td>7710610.5</td>\n",
       "    </tr>\n",
       "    <tr>\n",
       "      <th>32462</th>\n",
       "      <td>2974</td>\n",
       "      <td>199875</td>\n",
       "      <td>20000001.0</td>\n",
       "      <td>5.472611</td>\n",
       "      <td>0.0</td>\n",
       "      <td>0.205236</td>\n",
       "      <td>0.90869255913863689</td>\n",
       "      <td>4.092467e+32</td>\n",
       "      <td>50.698605</td>\n",
       "      <td>6.853647</td>\n",
       "      <td>9.907135</td>\n",
       "      <td>0.018</td>\n",
       "      <td>1.0</td>\n",
       "      <td>0.3</td>\n",
       "      <td>1.0</td>\n",
       "      <td>0.1</td>\n",
       "      <td>0.408212</td>\n",
       "      <td>7710610.5</td>\n",
       "    </tr>\n",
       "    <tr>\n",
       "      <th>32463</th>\n",
       "      <td>2974</td>\n",
       "      <td>199875</td>\n",
       "      <td>20000001.0</td>\n",
       "      <td>6.079242</td>\n",
       "      <td>0.0</td>\n",
       "      <td>0.285096</td>\n",
       "      <td>1.0137383929400392</td>\n",
       "      <td>4.092467e+32</td>\n",
       "      <td>50.698605</td>\n",
       "      <td>6.853647</td>\n",
       "      <td>9.907135</td>\n",
       "      <td>0.018</td>\n",
       "      <td>1.0</td>\n",
       "      <td>0.3</td>\n",
       "      <td>1.0</td>\n",
       "      <td>0.1</td>\n",
       "      <td>0.408212</td>\n",
       "      <td>7710610.5</td>\n",
       "    </tr>\n",
       "    <tr>\n",
       "      <th>32464</th>\n",
       "      <td>2974</td>\n",
       "      <td>199875</td>\n",
       "      <td>20000001.0</td>\n",
       "      <td>7.411129</td>\n",
       "      <td>0.0</td>\n",
       "      <td>0.074660</td>\n",
       "      <td>0.64875258486623388</td>\n",
       "      <td>4.092467e+32</td>\n",
       "      <td>50.698605</td>\n",
       "      <td>6.853647</td>\n",
       "      <td>9.907135</td>\n",
       "      <td>0.018</td>\n",
       "      <td>1.0</td>\n",
       "      <td>0.3</td>\n",
       "      <td>1.0</td>\n",
       "      <td>0.1</td>\n",
       "      <td>0.408212</td>\n",
       "      <td>7710610.5</td>\n",
       "    </tr>\n",
       "  </tbody>\n",
       "</table>\n",
       "</div>"
      ],
      "text/plain": [
       "       ident      it           t      a(i)  emegas(i)  emepla(i)/emet  \\\n",
       "32460   2974  199875  20000001.0  4.403352        0.0        0.568129   \n",
       "32461   2974  199875  20000001.0  4.998909        0.0        0.346168   \n",
       "32462   2974  199875  20000001.0  5.472611        0.0        0.205236   \n",
       "32463   2974  199875  20000001.0  6.079242        0.0        0.285096   \n",
       "32464   2974  199875  20000001.0  7.411129        0.0        0.074660   \n",
       "\n",
       "                 rplanet(i)/radtie       emestar         rc      qest  \\\n",
       "32460     1.2753727397384054        4.092467e+32  50.698605  6.853647   \n",
       "32461     1.0811722783677506        4.092467e+32  50.698605  6.853647   \n",
       "32462    0.90869255913863689        4.092467e+32  50.698605  6.853647   \n",
       "32463     1.0137383929400392        4.092467e+32  50.698605  6.853647   \n",
       "32464    0.64875258486623388        4.092467e+32  50.698605  6.853647   \n",
       "\n",
       "       sigmag_0   emed  gama  apert  fpert  constmigI    emetal     taugas  \n",
       "32460  9.907135  0.018   1.0    0.3    1.0        0.1  0.408212  7710610.5  \n",
       "32461  9.907135  0.018   1.0    0.3    1.0        0.1  0.408212  7710610.5  \n",
       "32462  9.907135  0.018   1.0    0.3    1.0        0.1  0.408212  7710610.5  \n",
       "32463  9.907135  0.018   1.0    0.3    1.0        0.1  0.408212  7710610.5  \n",
       "32464  9.907135  0.018   1.0    0.3    1.0        0.1  0.408212  7710610.5  "
      ]
     },
     "execution_count": 3,
     "metadata": {},
     "output_type": "execute_result"
    }
   ],
   "source": [
    "high.tail()"
   ]
  },
  {
   "cell_type": "code",
   "execution_count": 4,
   "metadata": {},
   "outputs": [
    {
     "data": {
      "text/html": [
       "<div>\n",
       "<style>\n",
       "    .dataframe thead tr:only-child th {\n",
       "        text-align: right;\n",
       "    }\n",
       "\n",
       "    .dataframe thead th {\n",
       "        text-align: left;\n",
       "    }\n",
       "\n",
       "    .dataframe tbody tr th {\n",
       "        vertical-align: top;\n",
       "    }\n",
       "</style>\n",
       "<table border=\"1\" class=\"dataframe\">\n",
       "  <thead>\n",
       "    <tr style=\"text-align: right;\">\n",
       "      <th></th>\n",
       "      <th>ident</th>\n",
       "      <th>it</th>\n",
       "      <th>t</th>\n",
       "      <th>a(i)</th>\n",
       "      <th>emegas(i)</th>\n",
       "      <th>emepla(i)/emet</th>\n",
       "      <th>rplanet(i)/radtie</th>\n",
       "      <th>emestar</th>\n",
       "      <th>rc</th>\n",
       "      <th>qest</th>\n",
       "      <th>sigmag_0</th>\n",
       "      <th>emed</th>\n",
       "      <th>gama</th>\n",
       "      <th>apert</th>\n",
       "      <th>fpert</th>\n",
       "      <th>constmigI</th>\n",
       "      <th>emetal</th>\n",
       "      <th>taugas</th>\n",
       "    </tr>\n",
       "  </thead>\n",
       "  <tbody>\n",
       "    <tr>\n",
       "      <th>0</th>\n",
       "      <td>0</td>\n",
       "      <td>199992</td>\n",
       "      <td>20000001.0</td>\n",
       "      <td>0.026231</td>\n",
       "      <td>0.001185</td>\n",
       "      <td>1.710156</td>\n",
       "      <td>1.8388847169925493</td>\n",
       "      <td>4.368174e+32</td>\n",
       "      <td>59.88237</td>\n",
       "      <td>1.110726</td>\n",
       "      <td>51.287674</td>\n",
       "      <td>0.13</td>\n",
       "      <td>1.0</td>\n",
       "      <td>0.1</td>\n",
       "      <td>1.0</td>\n",
       "      <td>0.1</td>\n",
       "      <td>0.07707</td>\n",
       "      <td>9268935.0</td>\n",
       "    </tr>\n",
       "    <tr>\n",
       "      <th>1</th>\n",
       "      <td>0</td>\n",
       "      <td>199992</td>\n",
       "      <td>20000001.0</td>\n",
       "      <td>2.170653</td>\n",
       "      <td>0.000000</td>\n",
       "      <td>1.646707</td>\n",
       "      <td>1.8167126017756039</td>\n",
       "      <td>4.368174e+32</td>\n",
       "      <td>59.88237</td>\n",
       "      <td>1.110726</td>\n",
       "      <td>51.287674</td>\n",
       "      <td>0.13</td>\n",
       "      <td>1.0</td>\n",
       "      <td>0.1</td>\n",
       "      <td>1.0</td>\n",
       "      <td>0.1</td>\n",
       "      <td>0.07707</td>\n",
       "      <td>9268935.0</td>\n",
       "    </tr>\n",
       "    <tr>\n",
       "      <th>2</th>\n",
       "      <td>0</td>\n",
       "      <td>199992</td>\n",
       "      <td>20000001.0</td>\n",
       "      <td>4.251030</td>\n",
       "      <td>0.000000</td>\n",
       "      <td>1.059631</td>\n",
       "      <td>1.5688831343393115</td>\n",
       "      <td>4.368174e+32</td>\n",
       "      <td>59.88237</td>\n",
       "      <td>1.110726</td>\n",
       "      <td>51.287674</td>\n",
       "      <td>0.13</td>\n",
       "      <td>1.0</td>\n",
       "      <td>0.1</td>\n",
       "      <td>1.0</td>\n",
       "      <td>0.1</td>\n",
       "      <td>0.07707</td>\n",
       "      <td>9268935.0</td>\n",
       "    </tr>\n",
       "    <tr>\n",
       "      <th>3</th>\n",
       "      <td>0</td>\n",
       "      <td>199992</td>\n",
       "      <td>20000001.0</td>\n",
       "      <td>5.468018</td>\n",
       "      <td>0.000000</td>\n",
       "      <td>0.839156</td>\n",
       "      <td>1.4520602505243447</td>\n",
       "      <td>4.368174e+32</td>\n",
       "      <td>59.88237</td>\n",
       "      <td>1.110726</td>\n",
       "      <td>51.287674</td>\n",
       "      <td>0.13</td>\n",
       "      <td>1.0</td>\n",
       "      <td>0.1</td>\n",
       "      <td>1.0</td>\n",
       "      <td>0.1</td>\n",
       "      <td>0.07707</td>\n",
       "      <td>9268935.0</td>\n",
       "    </tr>\n",
       "    <tr>\n",
       "      <th>4</th>\n",
       "      <td>0</td>\n",
       "      <td>199992</td>\n",
       "      <td>20000001.0</td>\n",
       "      <td>8.935596</td>\n",
       "      <td>0.000000</td>\n",
       "      <td>0.367578</td>\n",
       "      <td>1.1032029110256696</td>\n",
       "      <td>4.368174e+32</td>\n",
       "      <td>59.88237</td>\n",
       "      <td>1.110726</td>\n",
       "      <td>51.287674</td>\n",
       "      <td>0.13</td>\n",
       "      <td>1.0</td>\n",
       "      <td>0.1</td>\n",
       "      <td>1.0</td>\n",
       "      <td>0.1</td>\n",
       "      <td>0.07707</td>\n",
       "      <td>9268935.0</td>\n",
       "    </tr>\n",
       "  </tbody>\n",
       "</table>\n",
       "</div>"
      ],
      "text/plain": [
       "   ident      it           t      a(i)  emegas(i)  emepla(i)/emet  \\\n",
       "0      0  199992  20000001.0  0.026231   0.001185        1.710156   \n",
       "1      0  199992  20000001.0  2.170653   0.000000        1.646707   \n",
       "2      0  199992  20000001.0  4.251030   0.000000        1.059631   \n",
       "3      0  199992  20000001.0  5.468018   0.000000        0.839156   \n",
       "4      0  199992  20000001.0  8.935596   0.000000        0.367578   \n",
       "\n",
       "             rplanet(i)/radtie       emestar        rc      qest   sigmag_0  \\\n",
       "0     1.8388847169925493        4.368174e+32  59.88237  1.110726  51.287674   \n",
       "1     1.8167126017756039        4.368174e+32  59.88237  1.110726  51.287674   \n",
       "2     1.5688831343393115        4.368174e+32  59.88237  1.110726  51.287674   \n",
       "3     1.4520602505243447        4.368174e+32  59.88237  1.110726  51.287674   \n",
       "4     1.1032029110256696        4.368174e+32  59.88237  1.110726  51.287674   \n",
       "\n",
       "   emed  gama  apert  fpert  constmigI   emetal     taugas  \n",
       "0  0.13   1.0    0.1    1.0        0.1  0.07707  9268935.0  \n",
       "1  0.13   1.0    0.1    1.0        0.1  0.07707  9268935.0  \n",
       "2  0.13   1.0    0.1    1.0        0.1  0.07707  9268935.0  \n",
       "3  0.13   1.0    0.1    1.0        0.1  0.07707  9268935.0  \n",
       "4  0.13   1.0    0.1    1.0        0.1  0.07707  9268935.0  "
      ]
     },
     "execution_count": 4,
     "metadata": {},
     "output_type": "execute_result"
    }
   ],
   "source": [
    "low.head()"
   ]
  },
  {
   "cell_type": "code",
   "execution_count": 5,
   "metadata": {},
   "outputs": [],
   "source": [
    "num_planetas_high = high.groupby(['ident']).size().get_values()\n",
    "num_planetas_low = low.groupby(['ident']).size().get_values()"
   ]
  },
  {
   "cell_type": "code",
   "execution_count": 6,
   "metadata": {},
   "outputs": [],
   "source": [
    "masa_plan_high = high.groupby(['ident'])['emepla(i)/emet'].sum().get_values()\n",
    "masa_plan_low = low.groupby(['ident'])['emepla(i)/emet'].sum().get_values()"
   ]
  },
  {
   "cell_type": "code",
   "execution_count": 7,
   "metadata": {},
   "outputs": [],
   "source": [
    "efic_masa_high = masa_plan_high/high.groupby(['ident'])['emed'].mean().get_values()\n",
    "efic_masa_low = masa_plan_low/low.groupby(['ident'])['emed'].mean().get_values()"
   ]
  },
  {
   "cell_type": "code",
   "execution_count": 8,
   "metadata": {},
   "outputs": [],
   "source": [
    "X_low = low.drop(['a(i)','emegas(i)','emepla(i)/emet','rplanet(i)/radtie'],inplace=False,axis=1).groupby(['ident']).mean()\n",
    "X_high = high.drop(['a(i)','emegas(i)','emepla(i)/emet','rplanet(i)/radtie'],inplace=False,axis=1).groupby(['ident']).mean()"
   ]
  },
  {
   "cell_type": "code",
   "execution_count": 9,
   "metadata": {},
   "outputs": [],
   "source": [
    "scaler = preprocessing.StandardScaler().fit(X_high)\n",
    "scaler\n",
    "Scale_high = scaler.transform(X_high)\n",
    "scaler = preprocessing.StandardScaler().fit(X_low)\n",
    "scaler\n",
    "Scale_low = scaler.transform(X_low)"
   ]
  },
  {
   "cell_type": "markdown",
   "metadata": {},
   "source": [
    "## Modelo de estimación del número de planetas"
   ]
  },
  {
   "cell_type": "code",
   "execution_count": 10,
   "metadata": {
    "collapsed": true
   },
   "outputs": [],
   "source": [
    "X_train, X_test, Y_train, Y_test = train_test_split(Scale_high, num_planetas_high, test_size=0.3)"
   ]
  },
  {
   "cell_type": "code",
   "execution_count": 11,
   "metadata": {},
   "outputs": [
    {
     "name": "stdout",
     "output_type": "stream",
     "text": [
      "274\n"
     ]
    }
   ],
   "source": [
    "C=0.9\n",
    "gamma=0.1\n",
    "gauss = svm.SVC(C=C,kernel='rbf',gamma=gamma)\n",
    "gauss.fit(X_train,Y_train)\n",
    "Y_predict = gauss.predict(X_test)\n",
    "ii = Y_predict == Y_test\n",
    "print(sum(ii))"
   ]
  },
  {
   "cell_type": "code",
   "execution_count": 12,
   "metadata": {},
   "outputs": [
    {
     "name": "stdout",
     "output_type": "stream",
     "text": [
      "279\n"
     ]
    }
   ],
   "source": [
    "C=0.6\n",
    "gamma=0.1\n",
    "linear = svm.SVC(C=C,kernel='linear')\n",
    "linear.fit(X_train,Y_train)\n",
    "Y_predict = linear.predict(X_test)\n",
    "ii = Y_predict == Y_test\n",
    "print(sum(ii))"
   ]
  },
  {
   "cell_type": "code",
   "execution_count": 13,
   "metadata": {},
   "outputs": [
    {
     "name": "stdout",
     "output_type": "stream",
     "text": [
      "107\n"
     ]
    }
   ],
   "source": [
    "C=1\n",
    "gamma=0.1\n",
    "poly = svm.SVC(C=C,kernel='poly',degree=3)\n",
    "poly.fit(X_train,Y_train)\n",
    "Y_predict = poly.predict(X_test)\n",
    "ii = Y_predict == Y_test\n",
    "print(sum(ii))"
   ]
  },
  {
   "cell_type": "code",
   "execution_count": 14,
   "metadata": {},
   "outputs": [
    {
     "data": {
      "text/plain": [
       "239"
      ]
     },
     "execution_count": 14,
     "metadata": {},
     "output_type": "execute_result"
    }
   ],
   "source": [
    "clf = linear_model.Lasso(alpha=0.001, tol=0.00001)\n",
    "clf.fit(X_train, Y_train)\n",
    "Y_predict = clf.predict(X_test)\n",
    "ii = 0\n",
    "for i in range(len(Y_predict)):\n",
    "    ii+=round(Y_predict[i])==Y_test[i]\n",
    "ii"
   ]
  },
  {
   "cell_type": "code",
   "execution_count": 15,
   "metadata": {},
   "outputs": [
    {
     "data": {
      "text/plain": [
       "array([ 0.34      ,  0.37162162,  0.34246575,  0.37671233,  0.35172414,\n",
       "        0.32867133,  0.38461538,  0.3028169 ,  0.3028169 ,  0.30985915,\n",
       "        0.28571429,  0.31386861,  0.34328358,  0.36842105,  0.30827068,\n",
       "        0.35877863,  0.35384615,  0.4       ,  0.34375   ,  0.38582677])"
      ]
     },
     "execution_count": 15,
     "metadata": {},
     "output_type": "execute_result"
    }
   ],
   "source": [
    "clf2 = svm.SVC(C=C,kernel='linear')\n",
    "scores = cross_val_score(clf2, Scale_high, num_planetas_high, cv=20)\n",
    "scores"
   ]
  },
  {
   "cell_type": "code",
   "execution_count": 16,
   "metadata": {},
   "outputs": [
    {
     "name": "stdout",
     "output_type": "stream",
     "text": [
      "# Tuning hyper-parameters for none score\n",
      "\n",
      "[ 1  2  3  4  5  6  7  8  9 10 11 12 13 14 15 16 17 18 19 20 21 22 23 24 26]\n"
     ]
    },
    {
     "data": {
      "text/plain": [
       "GridSearchCV(cv=2, error_score='raise',\n",
       "       estimator=SVC(C=1, cache_size=200, class_weight=None, coef0=0.0,\n",
       "  decision_function_shape=None, degree=3, gamma='auto', kernel='rbf',\n",
       "  max_iter=-1, probability=False, random_state=None, shrinking=True,\n",
       "  tol=0.001, verbose=False),\n",
       "       fit_params={}, iid=True, n_jobs=1,\n",
       "       param_grid=[{'kernel': ['rbf'], 'gamma': [0.001, 0.0001], 'C': [1, 10, 100, 1000]}, {'kernel': ['linear'], 'C': [1, 10, 100, 1000]}],\n",
       "       pre_dispatch='2*n_jobs', refit=True, return_train_score=True,\n",
       "       scoring=None, verbose=0)"
      ]
     },
     "execution_count": 16,
     "metadata": {},
     "output_type": "execute_result"
    }
   ],
   "source": [
    "tuned_parameters = [{'kernel': ['rbf'], 'gamma': [1e-3, 1e-4],\n",
    "                     'C': [1, 10, 100, 1000]},\n",
    "                    {'kernel': ['linear'], 'C': [1, 10, 100, 1000]}]\n",
    "\n",
    "scores = ['precision', 'recall']\n",
    "\n",
    "print(\"# Tuning hyper-parameters for none score\")\n",
    "print()\n",
    "\n",
    "print(np.unique(Y_train))\n",
    "\n",
    "clf = GridSearchCV(SVC(C=1), tuned_parameters, cv=2)\n",
    "clf.fit(Scale_high, num_planetas_high)"
   ]
  },
  {
   "cell_type": "code",
   "execution_count": 17,
   "metadata": {},
   "outputs": [
    {
     "name": "stdout",
     "output_type": "stream",
     "text": [
      "Best parameters set found on development set:\n",
      "\n",
      "{'C': 1000, 'gamma': 0.001, 'kernel': 'rbf'}\n",
      "\n",
      "Grid scores on development set:\n",
      "\n",
      "0.136 (+/-0.001) for {'C': 1, 'gamma': 0.001, 'kernel': 'rbf'}\n",
      "\n",
      "0.127 (+/-0.000) for {'C': 1, 'gamma': 0.0001, 'kernel': 'rbf'}\n",
      "\n",
      "0.189 (+/-0.036) for {'C': 10, 'gamma': 0.001, 'kernel': 'rbf'}\n",
      "\n",
      "0.135 (+/-0.000) for {'C': 10, 'gamma': 0.0001, 'kernel': 'rbf'}\n",
      "\n",
      "0.338 (+/-0.002) for {'C': 100, 'gamma': 0.001, 'kernel': 'rbf'}\n",
      "\n",
      "0.189 (+/-0.041) for {'C': 100, 'gamma': 0.0001, 'kernel': 'rbf'}\n",
      "\n",
      "0.342 (+/-0.005) for {'C': 1000, 'gamma': 0.001, 'kernel': 'rbf'}\n",
      "\n",
      "0.332 (+/-0.002) for {'C': 1000, 'gamma': 0.0001, 'kernel': 'rbf'}\n",
      "\n",
      "0.335 (+/-0.002) for {'C': 1, 'kernel': 'linear'}\n",
      "\n",
      "0.336 (+/-0.006) for {'C': 10, 'kernel': 'linear'}\n",
      "\n",
      "0.335 (+/-0.011) for {'C': 100, 'kernel': 'linear'}\n",
      "\n",
      "0.335 (+/-0.004) for {'C': 1000, 'kernel': 'linear'}\n",
      "\n"
     ]
    }
   ],
   "source": [
    "print(\"Best parameters set found on development set:\")\n",
    "print()\n",
    "print(clf.best_params_)\n",
    "print()\n",
    "print(\"Grid scores on development set:\")\n",
    "print()\n",
    "means = clf.cv_results_['mean_test_score']\n",
    "stds = clf.cv_results_['std_test_score']\n",
    "for mean, std, params in zip(means, stds, clf.cv_results_['params']):\n",
    "    print(\"%0.3f (+/-%0.03f) for %r\" % (mean, std * 2, params))\n",
    "    print()"
   ]
  },
  {
   "cell_type": "code",
   "execution_count": 18,
   "metadata": {},
   "outputs": [
    {
     "data": {
      "text/plain": [
       "GridSearchCV(cv=None, error_score='raise',\n",
       "       estimator=SVC(C=1, cache_size=200, class_weight=None, coef0=0.0,\n",
       "  decision_function_shape=None, degree=3, gamma='auto', kernel='rbf',\n",
       "  max_iter=-1, probability=False, random_state=None, shrinking=True,\n",
       "  tol=0.001, verbose=False),\n",
       "       fit_params={}, iid=True, n_jobs=1,\n",
       "       param_grid=[{'kernel': ['rbf'], 'gamma': [0.001, 0.0001], 'C': [1, 10, 100, 1000]}, {'kernel': ['linear'], 'C': [1, 10, 100, 1000]}],\n",
       "       pre_dispatch='2*n_jobs', refit=True, return_train_score=True,\n",
       "       scoring='recall_macro', verbose=0)"
      ]
     },
     "execution_count": 18,
     "metadata": {},
     "output_type": "execute_result"
    }
   ],
   "source": [
    "clf = GridSearchCV(SVC(C=1), tuned_parameters,\n",
    "                       scoring='%s_macro' % scores[1])\n",
    "clf.fit(X_train,Y_train)"
   ]
  },
  {
   "cell_type": "markdown",
   "metadata": {},
   "source": [
    "###  Support Vector Machine con kernel gaussiano\n",
    "Se exploran parámetros en una escala logarítmica para optimizar el ajuste."
   ]
  },
  {
   "cell_type": "code",
   "execution_count": 19,
   "metadata": {},
   "outputs": [
    {
     "name": "stdout",
     "output_type": "stream",
     "text": [
      "metodo: SVM rbf . hits: 279 . mejor gamma: 0.1 . mejor c: 5\n"
     ]
    }
   ],
   "source": [
    "# unos for's muy grandes para todos los posibles metodos\n",
    "#RBF\n",
    "C=[0.1, 0.01, 0.001, 0.0001, 0.00001, 1, 5]\n",
    "gamma=[0.1, 0.01, 0.001, 0.0001, 0.00001, 1, 10, 100, 1000, 10000]\n",
    "sco=0\n",
    "for c in C:\n",
    "    for g in gamma:\n",
    "        gauss = svm.SVC(C=c,kernel='rbf',gamma=g)\n",
    "        gauss.fit(X_train,Y_train)\n",
    "        Y_predict = gauss.predict(X_test)\n",
    "        ii = Y_predict == Y_test\n",
    "        if sum(ii) > sco:\n",
    "            sco = sum(ii)\n",
    "            mejor_g = g\n",
    "            mejor_c = c\n",
    "print('metodo: SVM rbf', '. hits:',sco, '. mejor gamma:',mejor_g, '. mejor c:', mejor_c)"
   ]
  },
  {
   "cell_type": "markdown",
   "metadata": {},
   "source": [
    "###  Support Vector Machine con kernel lineal\n",
    "Se exploran parámetros en una escala logarítmica para optimizar el ajuste."
   ]
  },
  {
   "cell_type": "code",
   "execution_count": 20,
   "metadata": {},
   "outputs": [
    {
     "name": "stdout",
     "output_type": "stream",
     "text": [
      "metodo: SVM linear . hits: 277 . mejor c: 1\n"
     ]
    }
   ],
   "source": [
    "#linear\n",
    "C = [0.1, 0.01, 0.001, 0.0001, 0.00001, 1, 5]\n",
    "sco = 0\n",
    "for c in C:\n",
    "    linear = svm.SVC(C=c,kernel='linear')\n",
    "    linear.fit(X_train,Y_train)\n",
    "    Y_predict = linear.predict(X_test)\n",
    "    ii = Y_predict == Y_test\n",
    "    if sum(ii) > sco:\n",
    "        sco = sum(ii)\n",
    "        mejor_c = c\n",
    "print('metodo: SVM linear', '. hits:',sco, '. mejor c:', mejor_c)"
   ]
  },
  {
   "cell_type": "markdown",
   "metadata": {},
   "source": [
    "###  Support Vector Machine con kernel polinomial\n",
    "Se exploran parámetros en una escala logarítmica para optimizar el ajuste."
   ]
  },
  {
   "cell_type": "code",
   "execution_count": 21,
   "metadata": {},
   "outputs": [
    {
     "name": "stdout",
     "output_type": "stream",
     "text": [
      "metodo: SVM poly . hits: 277 . mejor grado: 1 . mejor c: 5\n"
     ]
    }
   ],
   "source": [
    "#poly\n",
    "C=[0.1, 0.01, 0.001, 0.0001, 0.00001, 1, 5]\n",
    "degr = [1, 2, 3, 4]\n",
    "sco = 0\n",
    "for c in C:\n",
    "    for d in degr:\n",
    "        poly = svm.SVC(C=c,kernel='poly',degree=d)\n",
    "        poly.fit(X_train,Y_train)\n",
    "        Y_predict = poly.predict(X_test)\n",
    "        ii = Y_predict == Y_test\n",
    "        if sum(ii) > sco:\n",
    "            sco = sum(ii)\n",
    "            mejor_d = d\n",
    "            mejor_c = c\n",
    "print('metodo: SVM poly', '. hits:',sco, '. mejor grado:',mejor_d, '. mejor c:', mejor_c)"
   ]
  },
  {
   "cell_type": "markdown",
   "metadata": {},
   "source": [
    "###  Lasso\n",
    "Se exploran parámetros en una escala logarítmica para optimizar el ajuste."
   ]
  },
  {
   "cell_type": "code",
   "execution_count": 22,
   "metadata": {},
   "outputs": [
    {
     "name": "stdout",
     "output_type": "stream",
     "text": [
      "metodo: Lasso . hits: 241 . mejor alpha: 0.01\n"
     ]
    }
   ],
   "source": [
    "#Lasso\n",
    "alph = [0.1, 0.01, 0.001, 0.0001, 0.00001, 1, 10, 100, 1000, 10000]\n",
    "sco = 0\n",
    "for a in alph:\n",
    "    clf = linear_model.Lasso(alpha=a, tol=0.00001)\n",
    "    clf.fit(X_train, Y_train)\n",
    "    Y_predict = clf.predict(X_test)\n",
    "    ii = 0\n",
    "    for i in range(len(Y_predict)):\n",
    "        ii+=round(Y_predict[i])==Y_test[i]\n",
    "    if ii > sco:\n",
    "        sco = ii\n",
    "        mejor_a = a\n",
    "print('metodo: Lasso', '. hits:',sco, '. mejor alpha:',mejor_a)"
   ]
  },
  {
   "cell_type": "markdown",
   "metadata": {},
   "source": [
    "## Modelo de estimación de la masa total de los planetas"
   ]
  },
  {
   "cell_type": "code",
   "execution_count": 23,
   "metadata": {
    "collapsed": true
   },
   "outputs": [],
   "source": [
    "X_train_high, X_test_high, Y_train_high, Y_test_high = train_test_split(Scale_high, masa_plan_high, test_size=0.3)\n",
    "X_train_low, X_test_low, Y_train_low, Y_test_low = train_test_split(Scale_low, masa_plan_low, test_size=0.3)"
   ]
  },
  {
   "cell_type": "markdown",
   "metadata": {},
   "source": [
    "### Support vector regression con score de ($\\frac{1}{n} \\sum^{n}_{i=1} ((y_i - \\hat{y}_i)/y_i)^2)$)"
   ]
  },
  {
   "cell_type": "code",
   "execution_count": 24,
   "metadata": {},
   "outputs": [
    {
     "name": "stdout",
     "output_type": "stream",
     "text": [
      "Error de aproximación  6.85038811797\n",
      "Error de aproximación  12.0180479211\n",
      "Error de aproximación  7.36797118864\n"
     ]
    }
   ],
   "source": [
    "svr_rbf = SVR(kernel='rbf', C=1e3, gamma=0.1)\n",
    "svr_lin = SVR(kernel='linear', C=1e3)\n",
    "svr_poly = SVR(kernel='poly', C=1e3, degree=2)\n",
    "Y_rbf = svr_rbf.fit(X_train_high, Y_train_high).predict(X_test_high)\n",
    "err = (((Y_rbf - Y_test_high)/Y_test_high)**2).mean()\n",
    "print (\"Error de aproximación \", err)\n",
    "\n",
    "Y_lin = svr_lin.fit(X_train_high, Y_train_high).predict(X_test_high)\n",
    "err = (((Y_lin - Y_test_high)/Y_test_high)**2).mean()\n",
    "print (\"Error de aproximación \", err)\n",
    "\n",
    "Y_poly = svr_poly.fit(X_train_high, Y_train_high).predict(X_test_high)\n",
    "err = (((Y_poly - Y_test_high)/Y_test_high)**2).mean()\n",
    "print (\"Error de aproximación \", err)"
   ]
  },
  {
   "cell_type": "markdown",
   "metadata": {},
   "source": [
    "### Support Vector Regression con kernel gaussiano"
   ]
  },
  {
   "cell_type": "code",
   "execution_count": 25,
   "metadata": {},
   "outputs": [
    {
     "name": "stdout",
     "output_type": "stream",
     "text": [
      "metodo: SVR rbf . score: 0.697855412533 . mejor gamma: 0.1 . mejor c: 1\n"
     ]
    }
   ],
   "source": [
    "# unos for's muy grandes para todos los posibles metodos\n",
    "#RBF\n",
    "C=[0.1, 0.01, 0.001, 0.0001, 0.00001, 1, 5]\n",
    "gamma=[0.1, 0.01, 0.001, 0.0001, 0.00001, 1, 10, 100, 1000, 10000]\n",
    "sco=0\n",
    "for c in C:\n",
    "    for g in gamma:\n",
    "        svr_rbf = SVR(kernel='rbf', C=c, gamma=g)\n",
    "        Y_rbf = svr_rbf.fit(X_train_high, Y_train_high).predict(X_test_high)\n",
    "        err = (((Y_rbf - Y_test_high)/Y_test_high)**2).mean()\n",
    "        if (1/err) > sco:\n",
    "            sco = 1/err\n",
    "            mejor_g = g\n",
    "            mejor_c = c\n",
    "print('metodo: SVR rbf', '. score:',(1/sco), '. mejor gamma:',mejor_g, '. mejor c:', mejor_c)"
   ]
  },
  {
   "cell_type": "markdown",
   "metadata": {},
   "source": [
    "### Support Vector Regression con kernel lineal"
   ]
  },
  {
   "cell_type": "code",
   "execution_count": 26,
   "metadata": {},
   "outputs": [
    {
     "name": "stdout",
     "output_type": "stream",
     "text": [
      "metodo: SVR linear . score: 6.07765296606 . mejor c: 0.01\n"
     ]
    }
   ],
   "source": [
    "#linear\n",
    "C = [0.1, 0.01, 0.001, 0.0001, 0.00001, 1, 5]\n",
    "sco = 0\n",
    "for c in C:\n",
    "    svr_lin = SVR(kernel='linear', C=c)\n",
    "    Y_lin = svr_lin.fit(X_train_high, Y_train_high).predict(X_test_high)\n",
    "    err = (((Y_lin - Y_test_high)/Y_test_high)**2).mean()\n",
    "    if (1/err) > sco:\n",
    "        sco = 1/err\n",
    "        mejor_g = g\n",
    "        mejor_c = c\n",
    "print('metodo: SVR linear', '. score:',(1/sco), '. mejor c:', mejor_c)"
   ]
  },
  {
   "cell_type": "markdown",
   "metadata": {},
   "source": [
    "### Support Vector Regression con kernel polinomial"
   ]
  },
  {
   "cell_type": "code",
   "execution_count": 27,
   "metadata": {},
   "outputs": [
    {
     "name": "stdout",
     "output_type": "stream",
     "text": [
      "metodo: SVR poly . score: 5.73725398382 . mejor grado: 1 . mejor c: 0.1\n"
     ]
    }
   ],
   "source": [
    "#poly\n",
    "C=[0.1, 0.01, 0.001, 0.0001, 0.00001, 1, 5]\n",
    "degr = [1, 2, 3, 4]\n",
    "sco = 0\n",
    "for c in C:\n",
    "    for d in degr:\n",
    "        svr_poly = SVR(kernel='poly', C=c, degree=d)\n",
    "        Y_poly = svr_poly.fit(X_train_high, Y_train_high).predict(X_test_high)\n",
    "        err = (((Y_poly - Y_test_high)/Y_test_high)**2).mean()\n",
    "        if (1/err) > sco:\n",
    "            sco = 1/err\n",
    "            mejor_g = g\n",
    "            mejor_c = c\n",
    "print('metodo: SVR poly', '. score:',(1/sco), '. mejor grado:',mejor_d, '. mejor c:', mejor_c)"
   ]
  }
 ],
 "metadata": {
  "kernelspec": {
   "display_name": "Python 3",
   "language": "python",
   "name": "python3"
  },
  "language_info": {
   "codemirror_mode": {
    "name": "ipython",
    "version": 3
   },
   "file_extension": ".py",
   "mimetype": "text/x-python",
   "name": "python",
   "nbconvert_exporter": "python",
   "pygments_lexer": "ipython3",
   "version": "3.6.1"
  }
 },
 "nbformat": 4,
 "nbformat_minor": 2
}
