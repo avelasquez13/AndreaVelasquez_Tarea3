{
 "cells": [
  {
   "cell_type": "code",
   "execution_count": 1,
   "metadata": {
    "collapsed": false
   },
   "outputs": [
    {
     "name": "stdout",
     "output_type": "stream",
     "text": [
      "Populating the interactive namespace from numpy and matplotlib\n"
     ]
    }
   ],
   "source": [
    "import numpy as np\n",
    "import pandas as pd\n",
    "from sklearn.model_selection import train_test_split # Mirar la libreria sklearn.model_selection\n",
    "from sklearn.model_selection import cross_val_score\n",
    "from sklearn.model_selection import GridSearchCV\n",
    "\n",
    "from sklearn.metrics import classification_report\n",
    "\n",
    "from sklearn import svm\n",
    "from sklearn.svm import SVC\n",
    "from sklearn.svm import SVR\n",
    "from sklearn import preprocessing\n",
    "from sklearn import linear_model\n",
    "\n",
    "import warnings\n",
    "#warnings.simplefilter('ignore')\n",
    "\n",
    "%pylab inline"
   ]
  },
  {
   "cell_type": "markdown",
   "metadata": {},
   "source": [
    "# Modelo de evolución de un disco protoplanetario en un sistema planetario\n",
    "### A continuación se importan los datos de la evolución de un disco de gas y polvo que rodea una estrella central y la evolución de este en un sistema planetario."
   ]
  },
  {
   "cell_type": "markdown",
   "metadata": {},
   "source": [
    "### Preprocesamiento de los datos"
   ]
  },
  {
   "cell_type": "code",
   "execution_count": 3,
   "metadata": {
    "collapsed": true
   },
   "outputs": [],
   "source": [
    "high = pd.read_csv('datos/highp_finalresults.csv')\n",
    "low = pd.read_csv('datos/lowp_finalresults.csv')\n",
    "\n",
    "num_planetas_high = high.groupby(['ident']).size().get_values()\n",
    "num_planetas_low = low.groupby(['ident']).size().get_values()\n",
    "\n",
    "masa_plan_high = high.groupby(['ident'])['emepla(i)/emet'].sum().get_values()\n",
    "masa_plan_low = low.groupby(['ident'])['emepla(i)/emet'].sum().get_values()\n",
    "\n",
    "efic_masa_high = masa_plan_high/high.groupby(['ident'])['emed'].mean().get_values()\n",
    "efic_masa_low = masa_plan_low/low.groupby(['ident'])['emed'].mean().get_values()\n",
    "\n",
    "X_low = low.drop(['a(i)','emegas(i)','emepla(i)/emet','rplanet(i)/radtie'],inplace=False,axis=1).groupby(['ident']).mean()\n",
    "X_high = high.drop(['a(i)','emegas(i)','emepla(i)/emet','rplanet(i)/radtie'],inplace=False,axis=1).groupby(['ident']).mean()\n",
    "\n",
    "scaler = preprocessing.StandardScaler().fit(X_high)\n",
    "scaler\n",
    "Scale_high = scaler.transform(X_high)\n",
    "scaler = preprocessing.StandardScaler().fit(X_low)\n",
    "scaler\n",
    "Scale_low = scaler.transform(X_low)\n",
    "\n",
    "X_train, X_test, Y_train, Y_test = train_test_split(Scale_high, num_planetas_high, test_size=0.3)"
   ]
  },
  {
   "cell_type": "markdown",
   "metadata": {},
   "source": [
    "## Modelo de estimación del número de planetas"
   ]
  },
  {
   "cell_type": "markdown",
   "metadata": {},
   "source": [
    "###  Support Vector Machine con kernel gaussiano\n",
    "Se exploran parámetros en una escala logarítmica para optimizar el ajuste."
   ]
  },
  {
   "cell_type": "code",
   "execution_count": 4,
   "metadata": {
    "collapsed": false
   },
   "outputs": [
    {
     "name": "stdout",
     "output_type": "stream",
     "text": [
      "metodo: SVM rbf . hits: 280 . mejor gamma: 0.01 . mejor c: 5\n"
     ]
    }
   ],
   "source": [
    "C=[0.1, 0.01, 0.001, 0.0001, 0.00001, 1, 5]\n",
    "gamma=[0.1, 0.01, 0.001, 0.0001, 0.00001, 1, 10, 100, 1000, 10000]\n",
    "sco=0\n",
    "for c in C:\n",
    "    for g in gamma:\n",
    "        gauss = svm.SVC(C=c,kernel='rbf',gamma=g)\n",
    "        gauss.fit(X_train,Y_train)\n",
    "        Y_predict = gauss.predict(X_test)\n",
    "        ii = Y_predict == Y_test\n",
    "        if sum(ii) > sco:\n",
    "            sco = sum(ii)\n",
    "            mejor_g = g\n",
    "            mejor_c = c\n",
    "print('metodo: SVM rbf', '. hits:',sco, '. mejor gamma:',mejor_g, '. mejor C:', mejor_c)"
   ]
  },
  {
   "cell_type": "markdown",
   "metadata": {},
   "source": [
    "###  Support Vector Machine con kernel lineal\n",
    "Se exploran parámetros en una escala logarítmica para optimizar el ajuste."
   ]
  },
  {
   "cell_type": "code",
   "execution_count": 6,
   "metadata": {
    "collapsed": false
   },
   "outputs": [
    {
     "name": "stdout",
     "output_type": "stream",
     "text": [
      "metodo: SVM linear . hits: 286 . mejor C: 0.1\n"
     ]
    }
   ],
   "source": [
    "C = [0.1, 0.01, 0.001, 0.0001, 0.00001, 1, 5]\n",
    "sco = 0\n",
    "for c in C:\n",
    "    linear = svm.SVC(C=c,kernel='linear')\n",
    "    linear.fit(X_train,Y_train)\n",
    "    Y_predict = linear.predict(X_test)\n",
    "    ii = Y_predict == Y_test\n",
    "    if sum(ii) > sco:\n",
    "        sco = sum(ii)\n",
    "        mejor_c = c\n",
    "print('metodo: SVM linear', '. hits:',sco, '. mejor C:', mejor_c)"
   ]
  },
  {
   "cell_type": "markdown",
   "metadata": {},
   "source": [
    "###  Support Vector Machine con kernel polinomial\n",
    "Se exploran parámetros en una escala logarítmica para optimizar el ajuste."
   ]
  },
  {
   "cell_type": "code",
   "execution_count": 8,
   "metadata": {
    "collapsed": false
   },
   "outputs": [
    {
     "name": "stdout",
     "output_type": "stream",
     "text": [
      "metodo: SVM poly . hits: 281 . mejor grado: 1 . mejor C: 5\n"
     ]
    }
   ],
   "source": [
    "C=[0.1, 0.01, 0.001, 0.0001, 0.00001, 1, 5]\n",
    "degr = [1, 2, 3, 4]\n",
    "sco = 0\n",
    "for c in C:\n",
    "    for d in degr:\n",
    "        poly = svm.SVC(C=c,kernel='poly',degree=d)\n",
    "        poly.fit(X_train,Y_train)\n",
    "        Y_predict = poly.predict(X_test)\n",
    "        ii = Y_predict == Y_test\n",
    "        if sum(ii) > sco:\n",
    "            sco = sum(ii)\n",
    "            mejor_d = d\n",
    "            mejor_c = c\n",
    "print('metodo: SVM poly', '. hits:',sco, '. mejor grado:',mejor_d, '. mejor C:', mejor_c)"
   ]
  },
  {
   "cell_type": "markdown",
   "metadata": {},
   "source": [
    "###  Lasso\n",
    "Se exploran parámetros en una escala logarítmica para optimizar el ajuste."
   ]
  },
  {
   "cell_type": "code",
   "execution_count": 7,
   "metadata": {
    "collapsed": false
   },
   "outputs": [
    {
     "name": "stdout",
     "output_type": "stream",
     "text": [
      "metodo: Lasso . hits: 234 . mejor alpha: 0.1\n"
     ]
    }
   ],
   "source": [
    "alph = [0.1, 0.01, 0.001, 0.0001, 0.00001, 1, 10, 100, 1000, 10000]\n",
    "sco = 0\n",
    "for a in alph:\n",
    "    clf = linear_model.Lasso(alpha=a, tol=0.00001)\n",
    "    clf.fit(X_train, Y_train)\n",
    "    Y_predict = clf.predict(X_test)\n",
    "    ii = 0\n",
    "    for i in range(len(Y_predict)):\n",
    "        ii+=round(Y_predict[i])==Y_test[i]\n",
    "    if ii > sco:\n",
    "        sco = ii\n",
    "        mejor_a = a\n",
    "print('metodo: Lasso', '. hits:',sco, '. mejor alpha:',mejor_a)"
   ]
  },
  {
   "cell_type": "markdown",
   "metadata": {},
   "source": [
    "## Modelo de estimación de la masa total de los planetas"
   ]
  },
  {
   "cell_type": "markdown",
   "metadata": {},
   "source": [
    "### Preprocesamiento de los datos"
   ]
  },
  {
   "cell_type": "code",
   "execution_count": 11,
   "metadata": {
    "collapsed": true
   },
   "outputs": [],
   "source": [
    "X_train_high, X_test_high, Y_train_high, Y_test_high = train_test_split(Scale_high, masa_plan_high, test_size=0.3)\n",
    "X_train_low, X_test_low, Y_train_low, Y_test_low = train_test_split(Scale_low, masa_plan_low, test_size=0.3)"
   ]
  },
  {
   "cell_type": "markdown",
   "metadata": {},
   "source": [
    "### Error"
   ]
  },
  {
   "cell_type": "code",
   "execution_count": 9,
   "metadata": {
    "collapsed": true
   },
   "outputs": [],
   "source": [
    "def error(Y_guess, Y_test):\n",
    "    return (((Y_guess - Y_test)/Y_test)**2).mean()"
   ]
  },
  {
   "cell_type": "markdown",
   "metadata": {},
   "source": [
    "### Support vector regression con score de ($\\frac{1}{n} \\sum^{n}_{i=1} ((y_i - \\hat{y}_i)/y_i)^2)$)"
   ]
  },
  {
   "cell_type": "code",
   "execution_count": 13,
   "metadata": {
    "collapsed": false
   },
   "outputs": [
    {
     "name": "stdout",
     "output_type": "stream",
     "text": [
      "Error de aproximación  21.7418155676\n",
      "Error de aproximación  25.0506670874\n",
      "Error de aproximación  7.6747212257\n"
     ]
    }
   ],
   "source": [
    "svr_rbf = SVR(kernel='rbf', C=1e3, gamma=0.1)\n",
    "svr_lin = SVR(kernel='linear', C=1e3)\n",
    "svr_poly = SVR(kernel='poly', C=1e3, degree=2)\n",
    "Y_rbf = svr_rbf.fit(X_train_high, Y_train_high).predict(X_test_high)\n",
    "err = error(Y_rbf, Y_test_high)\n",
    "print (\"Error de aproximación \", err)\n",
    "\n",
    "Y_lin = svr_lin.fit(X_train_high, Y_train_high).predict(X_test_high)\n",
    "err = error(Y_lin, Y_test_high)\n",
    "print (\"Error de aproximación \", err)\n",
    "\n",
    "Y_poly = svr_poly.fit(X_train_high, Y_train_high).predict(X_test_high)\n",
    "err = error(Y_poly, Y_test_high)\n",
    "print (\"Error de aproximación \", err)"
   ]
  },
  {
   "cell_type": "markdown",
   "metadata": {},
   "source": [
    "### Support Vector Regression con kernel gaussiano"
   ]
  },
  {
   "cell_type": "code",
   "execution_count": 14,
   "metadata": {
    "collapsed": false
   },
   "outputs": [
    {
     "name": "stdout",
     "output_type": "stream",
     "text": [
      "metodo: SVR rbf . score: 1.19488727305 . mejor gamma: 0.1 . mejor c: 5\n"
     ]
    }
   ],
   "source": [
    "C=[0.1, 0.01, 0.001, 0.0001, 0.00001, 1, 5]\n",
    "gamma=[0.1, 0.01, 0.001, 0.0001, 0.00001, 1, 10, 100, 1000, 10000]\n",
    "sco=0\n",
    "for c in C:\n",
    "    for g in gamma:\n",
    "        svr_rbf = SVR(kernel='rbf', C=c, gamma=g)\n",
    "        Y_rbf = svr_rbf.fit(X_train_high, Y_train_high).predict(X_test_high)\n",
    "        err = error(Y_rbf, Y_test_high)\n",
    "        if (1/err) > sco:\n",
    "            sco = 1/err\n",
    "            mejor_g = g\n",
    "            mejor_c = c\n",
    "print('metodo: SVR rbf', '. score:',(1/sco), '. mejor gamma:',mejor_g, '. mejor c:', mejor_c)"
   ]
  },
  {
   "cell_type": "markdown",
   "metadata": {},
   "source": [
    "### Support Vector Regression con kernel lineal"
   ]
  },
  {
   "cell_type": "code",
   "execution_count": 15,
   "metadata": {
    "collapsed": false
   },
   "outputs": [
    {
     "name": "stdout",
     "output_type": "stream",
     "text": [
      "metodo: SVR linear . score: 13.396375453 . mejor c: 0.01\n"
     ]
    }
   ],
   "source": [
    "C = [0.1, 0.01, 0.001, 0.0001, 0.00001, 1, 5]\n",
    "sco = 0\n",
    "for c in C:\n",
    "    svr_lin = SVR(kernel='linear', C=c)\n",
    "    Y_lin = svr_lin.fit(X_train_high, Y_train_high).predict(X_test_high)\n",
    "    err = error(Y_lin, Y_test_high)\n",
    "    if (1/err) > sco:\n",
    "        sco = 1/err\n",
    "        mejor_g = g\n",
    "        mejor_c = c\n",
    "print('metodo: SVR linear', '. score:',(1/sco), '. mejor c:', mejor_c)"
   ]
  },
  {
   "cell_type": "markdown",
   "metadata": {},
   "source": [
    "### Support Vector Regression con kernel polinomial"
   ]
  },
  {
   "cell_type": "code",
   "execution_count": 16,
   "metadata": {
    "collapsed": false
   },
   "outputs": [
    {
     "name": "stdout",
     "output_type": "stream",
     "text": [
      "metodo: SVR poly . score: 6.98360915293 . mejor grado: 1 . mejor c: 5\n"
     ]
    }
   ],
   "source": [
    "C=[0.1, 0.01, 0.001, 0.0001, 0.00001, 1, 5]\n",
    "degr = [1, 2, 3, 4]\n",
    "sco = 0\n",
    "for c in C:\n",
    "    for d in degr:\n",
    "        svr_poly = SVR(kernel='poly', C=c, degree=d)\n",
    "        Y_poly = svr_poly.fit(X_train_high, Y_train_high).predict(X_test_high)\n",
    "        err = error(Y_poly, Y_test_high)\n",
    "        if (1/err) > sco:\n",
    "            sco = 1/err\n",
    "            mejor_g = g\n",
    "            mejor_c = c\n",
    "print('metodo: SVR poly', '. score:',(1/sco), '. mejor grado:',mejor_d, '. mejor c:', mejor_c)"
   ]
  },
  {
   "cell_type": "code",
   "execution_count": null,
   "metadata": {
    "collapsed": true
   },
   "outputs": [],
   "source": []
  }
 ],
 "metadata": {
  "kernelspec": {
   "display_name": "Python 3",
   "language": "python",
   "name": "python3"
  },
  "language_info": {
   "codemirror_mode": {
    "name": "ipython",
    "version": 3
   },
   "file_extension": ".py",
   "mimetype": "text/x-python",
   "name": "python",
   "nbconvert_exporter": "python",
   "pygments_lexer": "ipython3",
   "version": "3.6.0"
  }
 },
 "nbformat": 4,
 "nbformat_minor": 2
}
