{
 "cells": [
  {
   "cell_type": "code",
   "execution_count": 4,
   "metadata": {
    "collapsed": false
   },
   "outputs": [
    {
     "name": "stdout",
     "output_type": "stream",
     "text": [
      "Populating the interactive namespace from numpy and matplotlib\n"
     ]
    }
   ],
   "source": [
    "import numpy as np\n",
    "import pandas as pd\n",
    "from scipy.stats import mode\n",
    "from sklearn.model_selection import train_test_split\n",
    "from sklearn.model_selection import cross_val_score\n",
    "from sklearn.model_selection import GridSearchCV\n",
    "\n",
    "from sklearn.metrics import classification_report\n",
    "\n",
    "from sklearn import svm\n",
    "from sklearn.svm import SVC\n",
    "from sklearn.svm import SVR\n",
    "from sklearn import preprocessing\n",
    "from sklearn import linear_model\n",
    "\n",
    "\n",
    "%pylab inline"
   ]
  },
  {
   "cell_type": "markdown",
   "metadata": {},
   "source": [
    "# Modelo de evolución de un disco protoplanetario en un sistema planetario\n",
    "### A continuación se importan los datos de la evolución de un disco de gas y polvo que rodea una estrella central y la evolución de este en un sistema planetario."
   ]
  },
  {
   "cell_type": "markdown",
   "metadata": {},
   "source": [
    "### Preprocesamiento de los datos"
   ]
  },
  {
   "cell_type": "code",
   "execution_count": 31,
   "metadata": {
    "collapsed": true
   },
   "outputs": [],
   "source": [
    "high = pd.read_csv('datos/highp_finalresults.csv')\n",
    "low = pd.read_csv('datos/lowp_finalresults.csv')\n",
    "\n",
    "num_planetas_high = high.groupby(['ident']).size().get_values()\n",
    "num_planetas_low = low.groupby(['ident']).size().get_values()\n",
    "\n",
    "masa_plan_high = high.groupby(['ident'])['emepla(i)/emet'].sum().get_values()\n",
    "masa_plan_low = low.groupby(['ident'])['emepla(i)/emet'].sum().get_values()\n",
    "\n",
    "efic_masa_high = masa_plan_high/high.groupby(['ident'])['emed'].mean().get_values()\n",
    "efic_masa_low = masa_plan_low/low.groupby(['ident'])['emed'].mean().get_values()\n",
    "\n",
    "X_low = low.drop(['a(i)','emegas(i)','emepla(i)/emet','rplanet(i)/radtie'],inplace=False,axis=1).groupby(['ident']).mean()\n",
    "X_high = high.drop(['a(i)','emegas(i)','emepla(i)/emet','rplanet(i)/radtie'],inplace=False,axis=1).groupby(['ident']).mean()\n",
    "\n",
    "scaler = preprocessing.StandardScaler().fit(X_high)\n",
    "Scale_high = scaler.transform(X_high)\n",
    "scaler = preprocessing.StandardScaler().fit(X_low)\n",
    "Scale_low = scaler.transform(X_low)\n",
    "\n",
    "X_train, X_test, Y_train, Y_test = train_test_split(Scale_high, num_planetas_high, test_size=0.3)"
   ]
  },
  {
   "cell_type": "markdown",
   "metadata": {},
   "source": [
    "## Modelo de estimación del número de planetas"
   ]
  },
  {
   "cell_type": "markdown",
   "metadata": {},
   "source": [
    "###  Support Vector Machine con kernel gaussiano\n",
    "Se exploran parámetros en una escala logarítmica para optimizar el ajuste, para cinco splits diferentes."
   ]
  },
  {
   "cell_type": "code",
   "execution_count": 25,
   "metadata": {
    "collapsed": false
   },
   "outputs": [
    {
     "name": "stdout",
     "output_type": "stream",
     "text": [
      "HIGH: metodo: SVM rbf . average hits: 286.0 . mejor gamma: 0.1 . mejor C: 5\n",
      "LOW: metodo: SVM rbf . average hits: 291.0 . mejor gamma: 0.1 . mejor C: 1\n"
     ]
    }
   ],
   "source": [
    "mejores_Cs_h = []\n",
    "mejores_gamma_h = []\n",
    "scores_h = []\n",
    "\n",
    "mejores_Cs_l = []\n",
    "mejores_gamma_l = []\n",
    "scores_l = []\n",
    "\n",
    "for i in range(3):\n",
    "    X_train_h, X_test_h, Y_train_h, Y_test_h = train_test_split(Scale_high, num_planetas_high, test_size=0.3)\n",
    "    X_train_l, X_test_l, Y_train_l, Y_test_l = train_test_split(Scale_low, num_planetas_low, test_size=0.3)\n",
    "\n",
    "    C=[0.1, 0.01, 0.001, 0.0001, 0.00001, 1, 5]\n",
    "    gamma=[0.1, 0.01, 0.001, 0.0001, 0.00001, 1, 10, 100, 1000, 10000]\n",
    "    sco_h=0\n",
    "    sco_l=0\n",
    "    \n",
    "    for c in C:\n",
    "        for g in gamma:\n",
    "            gauss_h = svm.SVC(C=c,kernel='rbf',gamma=g)\n",
    "            gauss_h.fit(X_train_h,Y_train_h)\n",
    "            Y_predict_h = gauss_h.predict(X_test_h)\n",
    "            ii_h = Y_predict_h == Y_test_h\n",
    "            if sum(ii_h) > sco_h:\n",
    "                sco_h = sum(ii_h)\n",
    "                mejor_g_h = g\n",
    "                mejor_c_h = c\n",
    "                \n",
    "            gauss_l = svm.SVC(C=c,kernel='rbf',gamma=g)\n",
    "            gauss_l.fit(X_train_l,Y_train_l)\n",
    "            Y_predict_l = gauss_l.predict(X_test_l)\n",
    "            ii_l = Y_predict_l == Y_test_l\n",
    "            if sum(ii_l) > sco_l:\n",
    "                sco_l = sum(ii_l)\n",
    "                mejor_g_l = g\n",
    "                mejor_c_l = c\n",
    "                \n",
    "    mejores_Cs_h.append(mejor_c_h)\n",
    "    mejores_gamma_h.append(mejor_g_h)\n",
    "    scores_h.append(sco_h)\n",
    "    \n",
    "    mejores_Cs_l.append(mejor_c_l)\n",
    "    mejores_gamma_l.append(mejor_g_l)\n",
    "    scores_l.append(sco_l)\n",
    "    \n",
    "bestC_h = mode(mejores_Cs_h)[0][0]\n",
    "bestG_h = mode(mejores_gamma_h)[0][0]\n",
    "indices_h = [i for i, x in enumerate(mejores_Cs_h) if x == bestC_h]\n",
    "mejores_scores_h = [scores_h[i] for i in indices_h]\n",
    "bestSco_h = mean(mejores_scores_h)\n",
    "\n",
    "bestC_l = mode(mejores_Cs_l)[0][0]\n",
    "bestG_l = mode(mejores_gamma_l)[0][0]\n",
    "indices_l = [i for i, x in enumerate(mejores_Cs_l) if x == bestC_l]\n",
    "mejores_scores_l = [scores_l[i] for i in indices_l]\n",
    "bestSco_l = mean(mejores_scores_l)\n",
    "                \n",
    "print('HIGH: metodo: SVM rbf', '. average hits:', bestSco_h, '. mejor gamma:', bestG_h, '. mejor C:', bestC_h)\n",
    "print('LOW: metodo: SVM rbf', '. average hits:', bestSco_l, '. mejor gamma:', bestG_l, '. mejor C:', bestC_l)"
   ]
  },
  {
   "cell_type": "markdown",
   "metadata": {},
   "source": [
    "###  Support Vector Machine con kernel lineal\n",
    "Se exploran parámetros en una escala logarítmica para optimizar el ajuste, para cinco splits diferentes."
   ]
  },
  {
   "cell_type": "code",
   "execution_count": 30,
   "metadata": {
    "collapsed": false
   },
   "outputs": [
    {
     "name": "stdout",
     "output_type": "stream",
     "text": [
      "metodo: SVM linear . average hits: 304.0 . mejor C: 1.0\n"
     ]
    }
   ],
   "source": [
    "mejores_Cs = []\n",
    "scores = []\n",
    "\n",
    "for i in range(5):\n",
    "    X_train, X_test, Y_train, Y_test = train_test_split(Scale_high, num_planetas_high, test_size=0.3)\n",
    "    \n",
    "    C = [0.1, 0.01, 0.001, 0.0001, 0.00001, 1, 5]\n",
    "    sco = 0\n",
    "    \n",
    "    for c in C:\n",
    "        linear = svm.SVC(C=c,kernel='linear')\n",
    "        linear.fit(X_train,Y_train)\n",
    "        Y_predict = linear.predict(X_test)\n",
    "        ii = Y_predict == Y_test\n",
    "        if sum(ii) > sco:\n",
    "            sco = sum(ii)\n",
    "            mejor_c = c\n",
    "            \n",
    "    mejores_Cs.append(mejor_c)\n",
    "    scores.append(sco)\n",
    "    \n",
    "bestC = mode(mejores_Cs)[0][0]\n",
    "indices = [i for i, x in enumerate(mejores_Cs) if x == bestC]\n",
    "mejores_scores = [scores[i] for i in indices]\n",
    "bestSco = mean(mejores_scores)\n",
    "\n",
    "print('metodo: SVM linear', '. average hits:', bestSco, '. mejor C:', bestC)"
   ]
  },
  {
   "cell_type": "markdown",
   "metadata": {},
   "source": [
    "###  Support Vector Machine con kernel polinomial\n",
    "Se exploran parámetros en una escala logarítmica para optimizar el ajuste, para cinco splits diferentes."
   ]
  },
  {
   "cell_type": "code",
   "execution_count": 27,
   "metadata": {
    "collapsed": false
   },
   "outputs": [
    {
     "name": "stdout",
     "output_type": "stream",
     "text": [
      "metodo: SVM poly . average hits: 285.6 . mejor grado: 1 . mejor C: 5\n"
     ]
    }
   ],
   "source": [
    "mejores_Cs = []\n",
    "mejores_degr = []\n",
    "scores = []\n",
    "\n",
    "for i in range(5):\n",
    "    X_train, X_test, Y_train, Y_test = train_test_split(Scale_high, num_planetas_high, test_size=0.3)\n",
    "    \n",
    "    C=[0.1, 0.01, 0.001, 0.0001, 0.00001, 1, 5]\n",
    "    degr = [1, 2, 3, 4]\n",
    "    sco = 0\n",
    "    \n",
    "    for c in C:\n",
    "        for d in degr:\n",
    "            poly = svm.SVC(C=c,kernel='poly',degree=d)\n",
    "            poly.fit(X_train,Y_train)\n",
    "            Y_predict = poly.predict(X_test)\n",
    "            ii = Y_predict == Y_test\n",
    "            if sum(ii) > sco:\n",
    "                sco = sum(ii)\n",
    "                mejor_d = d\n",
    "                mejor_c = c\n",
    "                \n",
    "    mejores_Cs.append(mejor_c)\n",
    "    mejores_degr.append(mejor_d)\n",
    "    scores.append(sco)\n",
    "    \n",
    "bestC = mode(mejores_Cs)[0][0]\n",
    "bestD = mode(mejores_degr)[0][0]\n",
    "indices = [i for i, x in enumerate(mejores_Cs) if x == bestC]\n",
    "mejores_scores = [scores[i] for i in indices]\n",
    "bestSco = mean(mejores_scores)\n",
    "                \n",
    "print('metodo: SVM poly', '. average hits:', bestSco, '. mejor grado:', bestD, '. mejor C:', bestC)"
   ]
  },
  {
   "cell_type": "markdown",
   "metadata": {},
   "source": [
    "###  Lasso\n",
    "Se exploran parámetros en una escala logarítmica para optimizar el ajuste, para cinco splits diferentes."
   ]
  },
  {
   "cell_type": "code",
   "execution_count": 28,
   "metadata": {
    "collapsed": false
   },
   "outputs": [
    {
     "name": "stdout",
     "output_type": "stream",
     "text": [
      "metodo: Lasso . average hits: 233.5 . mejor alpha: 0.1\n"
     ]
    }
   ],
   "source": [
    "mejores_alphas = []\n",
    "scores = []\n",
    "\n",
    "for i in range(5):\n",
    "    X_train, X_test, Y_train, Y_test = train_test_split(Scale_high, num_planetas_high, test_size=0.3)\n",
    "    \n",
    "    alph = [0.1, 0.01, 0.001, 0.0001, 0.00001, 1, 10, 100, 1000, 10000]\n",
    "    sco = 0\n",
    "    \n",
    "    for a in alph:\n",
    "        clf = linear_model.Lasso(alpha=a, tol=0.00001)\n",
    "        clf.fit(X_train, Y_train)\n",
    "        Y_predict = clf.predict(X_test)\n",
    "        ii = 0\n",
    "        for i in range(len(Y_predict)):\n",
    "            ii+=round(Y_predict[i])==Y_test[i]\n",
    "        if ii > sco:\n",
    "            sco = ii\n",
    "            mejor_a = a\n",
    "            \n",
    "    mejores_alphas.append(mejor_a)\n",
    "    scores.append(sco)\n",
    "    \n",
    "bestA = mode(mejores_alphas)[0][0]\n",
    "indices = [i for i, x in enumerate(mejores_alphas) if x == bestA]\n",
    "mejores_scores = [scores[i] for i in indices]\n",
    "bestSco = mean(mejores_scores)    \n",
    "            \n",
    "print('metodo: Lasso', '. average hits:', bestSco, '. mejor alpha:', bestA)"
   ]
  },
  {
   "cell_type": "markdown",
   "metadata": {},
   "source": [
    "## Modelo de estimación de la masa total de los planetas"
   ]
  },
  {
   "cell_type": "markdown",
   "metadata": {},
   "source": [
    "### Preprocesamiento de los datos"
   ]
  },
  {
   "cell_type": "code",
   "execution_count": 11,
   "metadata": {
    "collapsed": true
   },
   "outputs": [],
   "source": [
    "X_train_high, X_test_high, Y_train_high, Y_test_high = train_test_split(Scale_high, masa_plan_high, test_size=0.3)\n",
    "X_train_low, X_test_low, Y_train_low, Y_test_low = train_test_split(Scale_low, masa_plan_low, test_size=0.3)"
   ]
  },
  {
   "cell_type": "markdown",
   "metadata": {},
   "source": [
    "### Error"
   ]
  },
  {
   "cell_type": "code",
   "execution_count": 9,
   "metadata": {
    "collapsed": true
   },
   "outputs": [],
   "source": [
    "def error(Y_guess, Y_test):\n",
    "    return (((Y_guess - Y_test)/Y_test)**2).mean()"
   ]
  },
  {
   "cell_type": "markdown",
   "metadata": {},
   "source": [
    "### Support vector regression con score de ($\\frac{1}{n} \\sum^{n}_{i=1} ((y_i - \\hat{y}_i)/y_i)^2)$)"
   ]
  },
  {
   "cell_type": "code",
   "execution_count": 13,
   "metadata": {
    "collapsed": false
   },
   "outputs": [
    {
     "name": "stdout",
     "output_type": "stream",
     "text": [
      "Error de aproximación  21.7418155676\n",
      "Error de aproximación  25.0506670874\n",
      "Error de aproximación  7.6747212257\n"
     ]
    }
   ],
   "source": [
    "svr_rbf = SVR(kernel='rbf', C=1e3, gamma=0.1)\n",
    "svr_lin = SVR(kernel='linear', C=1e3)\n",
    "svr_poly = SVR(kernel='poly', C=1e3, degree=2)\n",
    "Y_rbf = svr_rbf.fit(X_train_high, Y_train_high).predict(X_test_high)\n",
    "err = error(Y_rbf, Y_test_high)\n",
    "print (\"Error de aproximación \", err)\n",
    "\n",
    "Y_lin = svr_lin.fit(X_train_high, Y_train_high).predict(X_test_high)\n",
    "err = error(Y_lin, Y_test_high)\n",
    "print (\"Error de aproximación \", err)\n",
    "\n",
    "Y_poly = svr_poly.fit(X_train_high, Y_train_high).predict(X_test_high)\n",
    "err = error(Y_poly, Y_test_high)\n",
    "print (\"Error de aproximación \", err)"
   ]
  },
  {
   "cell_type": "markdown",
   "metadata": {},
   "source": [
    "### Support Vector Regression con kernel gaussiano"
   ]
  },
  {
   "cell_type": "code",
   "execution_count": 14,
   "metadata": {
    "collapsed": false
   },
   "outputs": [
    {
     "name": "stdout",
     "output_type": "stream",
     "text": [
      "metodo: SVR rbf . score: 1.19488727305 . mejor gamma: 0.1 . mejor c: 5\n"
     ]
    }
   ],
   "source": [
    "C=[0.1, 0.01, 0.001, 0.0001, 0.00001, 1, 5]\n",
    "gamma=[0.1, 0.01, 0.001, 0.0001, 0.00001, 1, 10, 100, 1000, 10000]\n",
    "sco=0\n",
    "for c in C:\n",
    "    for g in gamma:\n",
    "        svr_rbf = SVR(kernel='rbf', C=c, gamma=g)\n",
    "        Y_rbf = svr_rbf.fit(X_train_high, Y_train_high).predict(X_test_high)\n",
    "        err = error(Y_rbf, Y_test_high)\n",
    "        if (1/err) > sco:\n",
    "            sco = 1/err\n",
    "            mejor_g = g\n",
    "            mejor_c = c\n",
    "print('metodo: SVR rbf', '. score:',(1/sco), '. mejor gamma:',mejor_g, '. mejor c:', mejor_c)"
   ]
  },
  {
   "cell_type": "markdown",
   "metadata": {},
   "source": [
    "### Support Vector Regression con kernel lineal"
   ]
  },
  {
   "cell_type": "code",
   "execution_count": 15,
   "metadata": {
    "collapsed": false
   },
   "outputs": [
    {
     "name": "stdout",
     "output_type": "stream",
     "text": [
      "metodo: SVR linear . score: 13.396375453 . mejor c: 0.01\n"
     ]
    }
   ],
   "source": [
    "C = [0.1, 0.01, 0.001, 0.0001, 0.00001, 1, 5]\n",
    "sco = 0\n",
    "for c in C:\n",
    "    svr_lin = SVR(kernel='linear', C=c)\n",
    "    Y_lin = svr_lin.fit(X_train_high, Y_train_high).predict(X_test_high)\n",
    "    err = error(Y_lin, Y_test_high)\n",
    "    if (1/err) > sco:\n",
    "        sco = 1/err\n",
    "        mejor_g = g\n",
    "        mejor_c = c\n",
    "print('metodo: SVR linear', '. score:',(1/sco), '. mejor c:', mejor_c)"
   ]
  },
  {
   "cell_type": "markdown",
   "metadata": {},
   "source": [
    "### Support Vector Regression con kernel polinomial"
   ]
  },
  {
   "cell_type": "code",
   "execution_count": 16,
   "metadata": {
    "collapsed": false,
    "scrolled": true
   },
   "outputs": [
    {
     "name": "stdout",
     "output_type": "stream",
     "text": [
      "metodo: SVR poly . score: 6.98360915293 . mejor grado: 1 . mejor c: 5\n"
     ]
    }
   ],
   "source": [
    "C=[0.1, 0.01, 0.001, 0.0001, 0.00001, 1, 5]\n",
    "degr = [1, 2, 3, 4]\n",
    "sco = 0\n",
    "for c in C:\n",
    "    for d in degr:\n",
    "        svr_poly = SVR(kernel='poly', C=c, degree=d)\n",
    "        Y_poly = svr_poly.fit(X_train_high, Y_train_high).predict(X_test_high)\n",
    "        err = error(Y_poly, Y_test_high)\n",
    "        if (1/err) > sco:\n",
    "            sco = 1/err\n",
    "            mejor_g = g\n",
    "            mejor_c = c\n",
    "print('metodo: SVR poly', '. score:',(1/sco), '. mejor grado:',mejor_d, '. mejor c:', mejor_c)"
   ]
  },
  {
   "cell_type": "markdown",
   "metadata": {
    "collapsed": true
   },
   "source": [
    "# Párametros más importantes"
   ]
  },
  {
   "cell_type": "markdown",
   "metadata": {},
   "source": [
    "Utilizamos Lasso para determinar que párametros afectan más en cada caso\n"
   ]
  },
  {
   "cell_type": "code",
   "execution_count": 43,
   "metadata": {
    "collapsed": false
   },
   "outputs": [],
   "source": [
    "#Se ignoran estos parametros debido a que su valor es constante a traves de todos los datos \n",
    "XX_low = X_low.drop(['it', 'apert', 'fpert', 'gama', 'constmigI'],inplace=False,axis=1)\n",
    "XX_high = X_high.drop(['it', 'apert', 'fpert', 'gama', 'constmigI'],inplace=False,axis=1)\n",
    "\n",
    "scaler = preprocessing.StandardScaler().fit(XX_high)\n",
    "Scale_high = scaler.transform(XX_high)\n",
    "scaler = preprocessing.StandardScaler().fit(XX_low)\n",
    "Scale_low = scaler.transform(XX_low)"
   ]
  },
  {
   "cell_type": "code",
   "execution_count": 44,
   "metadata": {
    "collapsed": true
   },
   "outputs": [],
   "source": [
    "labels=['t', 'emestar', 'rc', 'qest', 'sigmag_0', 'emed', 'emetal', 'taugas']"
   ]
  },
  {
   "cell_type": "markdown",
   "metadata": {},
   "source": [
    "### Número de planetas - High\n"
   ]
  },
  {
   "cell_type": "code",
   "execution_count": 45,
   "metadata": {
    "collapsed": false
   },
   "outputs": [
    {
     "data": {
      "text/plain": [
       "<matplotlib.legend.Legend at 0x1a52a99cd68>"
      ]
     },
     "execution_count": 45,
     "metadata": {},
     "output_type": "execute_result"
    },
    {
     "data": {
      "image/png": "[encoded data removed]",
      "text/plain": [
       "<matplotlib.figure.Figure at 0x1a52a9d8f98>"
      ]
     },
     "metadata": {},
     "output_type": "display_data"
    }
   ],
   "source": [
    "alph = logspace(-5,0.5, num=20)\n",
    "coeffs = np.zeros((20, 8))\n",
    "for i in range(len(alph)):\n",
    "    a=alph[i]\n",
    "    clf = linear_model.Lasso(alpha=a, tol=0.00001)\n",
    "    clf.fit(Scale_high, num_planetas_high)\n",
    "    coeffs[i]=clf.coef_ \n",
    "for i in range(len(coeffs[1,:])):\n",
    "    plt.plot(alph,coeffs[:,i], label=labels[i])\n",
    "plt.legend(bbox_to_anchor=(1., 1, 1., 0.), loc=2)"
   ]
  },
  {
   "cell_type": "markdown",
   "metadata": {},
   "source": [
    "### Número de planetas - Low\n"
   ]
  },
  {
   "cell_type": "code",
   "execution_count": 46,
   "metadata": {
    "collapsed": false
   },
   "outputs": [
    {
     "data": {
      "text/plain": [
       "<matplotlib.legend.Legend at 0x1a52aaa4978>"
      ]
     },
     "execution_count": 46,
     "metadata": {},
     "output_type": "execute_result"
    },
    {
     "data": {
      "image/png": "[encoded data removed]",
      "text/plain": [
       "<matplotlib.figure.Figure at 0x1a52aa0ec18>"
      ]
     },
     "metadata": {},
     "output_type": "display_data"
    }
   ],
   "source": [
    "alph = logspace(-5,0.2, num=20)\n",
    "coeffs = np.zeros((20, 8))\n",
    "for i in range(len(alph)):\n",
    "    a=alph[i]\n",
    "    clf = linear_model.Lasso(alpha=a, tol=0.00001)\n",
    "    clf.fit(Scale_low, num_planetas_low)\n",
    "    coeffs[i]=clf.coef_ \n",
    "for i in range(len(coeffs[1,:])):\n",
    "    plt.plot(alph,coeffs[:,i], label=labels[i])\n",
    "plt.legend(bbox_to_anchor=(1., 1, 1., 0.), loc=2)"
   ]
  },
  {
   "cell_type": "markdown",
   "metadata": {},
   "source": [
    "### Masa de planetas - High"
   ]
  },
  {
   "cell_type": "code",
   "execution_count": 47,
   "metadata": {
    "collapsed": false
   },
   "outputs": [
    {
     "data": {
      "text/plain": [
       "<matplotlib.legend.Legend at 0x1a52bb62c88>"
      ]
     },
     "execution_count": 47,
     "metadata": {},
     "output_type": "execute_result"
    },
    {
     "data": {
      "image/png": "[encoded data removed]",
      "text/plain": [
       "<matplotlib.figure.Figure at 0x1a52b5cfb38>"
      ]
     },
     "metadata": {},
     "output_type": "display_data"
    }
   ],
   "source": [
    "alph = logspace(-3,2, num=20)\n",
    "coeffs = np.zeros((20, 8))\n",
    "for i in range(len(alph)):\n",
    "    a=alph[i]\n",
    "    clf = linear_model.Lasso(alpha=a, tol=0.00001)\n",
    "    clf.fit(Scale_high, masa_plan_high)\n",
    "    coeffs[i]=clf.coef_ \n",
    "for i in range(len(coeffs[1,:])):\n",
    "    plt.plot(alph,coeffs[:,i], label=labels[i])\n",
    "plt.legend(bbox_to_anchor=(1., 1, 1., 0.), loc=2)"
   ]
  },
  {
   "cell_type": "markdown",
   "metadata": {},
   "source": [
    "### Masa de planetas - Low\n"
   ]
  },
  {
   "cell_type": "code",
   "execution_count": 48,
   "metadata": {
    "collapsed": false
   },
   "outputs": [
    {
     "data": {
      "text/plain": [
       "<matplotlib.legend.Legend at 0x1a52bcc3940>"
      ]
     },
     "execution_count": 48,
     "metadata": {},
     "output_type": "execute_result"
    },
    {
     "data": {
      "image/png": "[encoded data removed]",
      "text/plain": [
       "<matplotlib.figure.Figure at 0x1a52b5cff60>"
      ]
     },
     "metadata": {},
     "output_type": "display_data"
    }
   ],
   "source": [
    "alph = logspace(-3,2.5, num=20)\n",
    "coeffs = np.zeros((20, 8))\n",
    "for i in range(len(alph)):\n",
    "    a=alph[i]\n",
    "    clf = linear_model.Lasso(alpha=a, tol=0.00001)\n",
    "    clf.fit(Scale_low, masa_plan_low)\n",
    "    coeffs[i]=clf.coef_ \n",
    "for i in range(len(coeffs[1,:])):\n",
    "    plt.plot(alph,coeffs[:,i], label=labels[i])\n",
    "plt.legend(bbox_to_anchor=(1., 1, 1., 0.), loc=2)"
   ]
  },
  {
   "cell_type": "markdown",
   "metadata": {},
   "source": [
    "### Eficicencia de masa - High"
   ]
  },
  {
   "cell_type": "code",
   "execution_count": 49,
   "metadata": {
    "collapsed": false
   },
   "outputs": [
    {
     "data": {
      "text/plain": [
       "<matplotlib.legend.Legend at 0x1a52bd76c50>"
      ]
     },
     "execution_count": 49,
     "metadata": {},
     "output_type": "execute_result"
    },
    {
     "data": {
      "image/png": "[encoded data removed]",
      "text/plain": [
       "<matplotlib.figure.Figure at 0x1a52bbac7f0>"
      ]
     },
     "metadata": {},
     "output_type": "display_data"
    }
   ],
   "source": [
    "alph = logspace(-3,3, num=20)\n",
    "coeffs = np.zeros((20, 8))\n",
    "for i in range(len(alph)):\n",
    "    a=alph[i]\n",
    "    clf = linear_model.Lasso(alpha=a, tol=0.00001)\n",
    "    clf.fit(Scale_high, efic_masa_high)\n",
    "    coeffs[i]=clf.coef_ \n",
    "for i in range(len(coeffs[1,:])):\n",
    "    plt.plot(alph,coeffs[:,i], label=labels[i])\n",
    "plt.legend(bbox_to_anchor=(1., 1, 1., 0.), loc=2)"
   ]
  },
  {
   "cell_type": "markdown",
   "metadata": {},
   "source": [
    "### Eficicencia de masa - Low"
   ]
  },
  {
   "cell_type": "code",
   "execution_count": 50,
   "metadata": {
    "collapsed": false
   },
   "outputs": [
    {
     "data": {
      "text/plain": [
       "<matplotlib.legend.Legend at 0x1a52be61748>"
      ]
     },
     "execution_count": 50,
     "metadata": {},
     "output_type": "execute_result"
    },
    {
     "data": {
      "image/png": "[encoded data removed]",
      "text/plain": [
       "<matplotlib.figure.Figure at 0x1a52bdc7898>"
      ]
     },
     "metadata": {},
     "output_type": "display_data"
    }
   ],
   "source": [
    "alph = logspace(-3,3, num=20)\n",
    "coeffs = np.zeros((20, 8))\n",
    "for i in range(len(alph)):\n",
    "    a=alph[i]\n",
    "    clf = linear_model.Lasso(alpha=a, tol=0.00001)\n",
    "    clf.fit(Scale_low, efic_masa_low)\n",
    "    coeffs[i]=clf.coef_ \n",
    "for i in range(len(coeffs[1,:])):\n",
    "    plt.plot(alph,coeffs[:,i], label=labels[i])\n",
    "plt.legend(bbox_to_anchor=(1., 1, 1., 0.), loc=2)"
   ]
  }
 ],
 "metadata": {
  "kernelspec": {
   "display_name": "Python 3",
   "language": "python",
   "name": "python3"
  },
  "language_info": {
   "codemirror_mode": {
    "name": "ipython",
    "version": 3
   },
   "file_extension": ".py",
   "mimetype": "text/x-python",
   "name": "python",
   "nbconvert_exporter": "python",
   "pygments_lexer": "ipython3",
   "version": "3.6.0"
  }
 },
 "nbformat": 4,
 "nbformat_minor": 2
}
